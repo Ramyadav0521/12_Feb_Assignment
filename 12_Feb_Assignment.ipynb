{
 "cells": [
  {
   "cell_type": "code",
   "execution_count": 1,
   "id": "7d447e33-dc26-4f13-b421-8ea047574d84",
   "metadata": {},
   "outputs": [],
   "source": [
    "# Q.1:-what is an Exception in python? write the difference between Exceptions and #syntax errors."
   ]
  },
  {
   "cell_type": "code",
   "execution_count": 2,
   "id": "42dda0e2-b0a7-49eb-8e4c-e81731b1b4e1",
   "metadata": {},
   "outputs": [
    {
     "name": "stdout",
     "output_type": "stream",
     "text": [
      "Something went wrong\n",
      "The 'try except' is finished\n"
     ]
    }
   ],
   "source": [
    "#What is an Exception?\n",
    "# An exception in Python is an incident that happens while executing a program that causes the regular course of the program's \n",
    "# commands to be disrupted. When a Python code comes across a condition it\n",
    "#can't handle, it raises an exception. An object in Python that describes an error is called an exception.\n",
    "# Python Try Except\n",
    "# The try block lets you test a block of code for errors.\n",
    "\n",
    "# The except block lets you handle the error.\n",
    "\n",
    "# The else block lets you execute code when there is no error.\n",
    "\n",
    "# The finally block lets you execute code, regardless of the result of the try- and except blocks.\n",
    "\n",
    "#The try block will generate an error, because x is not defined:\n",
    "\n",
    "# try:\n",
    "#   print(x)\n",
    "# except:\n",
    "#   print(\"An exception occurred\")\n",
    "# Many Exceptions\n",
    "# You can define as many exception blocks as you want, e.g.\n",
    "# # if you want to execute a special block of code for a special kind of error:\n",
    "# Else\n",
    "# You can use the else keyword to define a block of code to be executed if no errors were raised:\n",
    "try:\n",
    "    print(x)\n",
    "except:\n",
    "    print(\"Something went wrong\")\n",
    "finally:\n",
    "    print(\"The 'try except' is finished\")\n"
   ]
  },
  {
   "cell_type": "code",
   "execution_count": null,
   "id": "6e968ce5-e6a3-4ca5-b782-70c227dd9232",
   "metadata": {},
   "outputs": [],
   "source": []
  },
  {
   "cell_type": "code",
   "execution_count": 3,
   "id": "c7b1c2f3-e2b9-462e-b8f9-16d1ea8d5af9",
   "metadata": {},
   "outputs": [],
   "source": [
    "# Q.2:- What happens when an exception is not handled? Explain with an example."
   ]
  },
  {
   "cell_type": "code",
   "execution_count": 7,
   "id": "bc48a9ac-73a8-4bf8-bd18-62ee545948fa",
   "metadata": {},
   "outputs": [
    {
     "name": "stdout",
     "output_type": "stream",
     "text": [
      "The index and element from the array is 0 Python\n",
      "The index and element from the array is 1 Exceptions\n",
      "The index and element from the array is 2 try and except\n",
      "Index out of range\n"
     ]
    }
   ],
   "source": [
    "# Python Exceptions\n",
    "# When a Python program meets an error, it stops the execution of the rest of the program. An error in Python might be either an error in \n",
    "# the syntax of an expression or a Python exception. We will see what an exception is. Also, we will see the difference between a syntax error and an exception in this tutorial. \n",
    "# Following that, we will learn about trying and except blocks and how to raise exceptions and make assertions. After that, we will see the Python exceptions list.\n",
    "# Python code to catch an exception and handle it using try and except code blocks  \n",
    "   \n",
    "a = [\"Python\", \"Exceptions\", \"try and except\"]  \n",
    "try:  \n",
    "    #looping through the elements of the array a, choosing a range that goes beyond the length of the array  \n",
    "     for i in range( 4 ):  \n",
    "        print( \"The index and element from the array is\", i, a[i] )  \n",
    "#if an error occurs in the try block, then except block will be executed by the Python interpreter       \n",
    "except:  \n",
    "    print (\"Index out of range\")  \n"
   ]
  },
  {
   "cell_type": "code",
   "execution_count": null,
   "id": "54db2e87-4663-464c-b2c7-be82e670a1eb",
   "metadata": {},
   "outputs": [],
   "source": []
  },
  {
   "cell_type": "code",
   "execution_count": 8,
   "id": "c6e36dc0-8232-492a-857a-00370da00dca",
   "metadata": {},
   "outputs": [],
   "source": [
    "# Q.3:-Explain with an example:\n",
    "#     a Try and else\n",
    "#     b. finally\n",
    "#     c.raise\n",
    "    "
   ]
  },
  {
   "cell_type": "code",
   "execution_count": 9,
   "id": "c523e920-5099-4617-a8ce-0999c23566f7",
   "metadata": {},
   "outputs": [],
   "source": [
    "# Try and Except Statement - Catching Exceptions\n",
    "# In Python, we catch exceptions and handle them using try and except code blocks. \n",
    "# The try clause contains the code that can raise an exception, while the except clause contains the code lines that handle the exception.\n",
    "# Let's see if we can access the index from the array, which is more than the array's length, and handle the resulting exception.\n",
    "\n",
    "# # Python code to catch an exception and handle it using try and except code blocks  \n",
    "   \n",
    "# a = [\"Python\", \"Exceptions\", \"try and except\"]  \n",
    "# try:  \n",
    "#     #looping through the elements of the array a, choosing a range that goes beyond the length of the array  \n",
    "#      for i in range( 4 ):  \n",
    "#         print( \"The index and element from the array is\", i, a[i] )  \n",
    "# #if an error occurs in the try block, then except block will be executed by the Python interpreter       \n",
    "# except:  \n",
    "#     print (\"Index out of range\")  \n",
    "    \n",
    "    \n",
    "    \n",
    "# How to Raise an Exception\n",
    "# If a condition does not meet our criteria but is correct according to the Python interpreter, we can intentionally raise an exception using the raise keyword. We can use a customized exception in conjunction with the statement.\n",
    "\n",
    "# If we wish to use raise to generate an exception when a given condition happens, we may do so as follows:\n",
    "    \n",
    "#     #Python code to show how to raise an exception in Python  \n",
    "# num = [3, 4, 5, 7]  \n",
    "# if len(num) > 3:  \n",
    "#     raise Exception( f\"Length of the given list must be less than or equal to 3 but is {len(num)}\" )  \n",
    "# #Python code to show how to raise an exception in Python  \n",
    "# num = [3, 4, 5, 7]  \n",
    "# if len(num) > 3:  \n",
    "#     raise Exception( f\"Length of the given list must be less than or equal to 3 but is {len(num)}\" )  \n",
    "# Finally Keyword in Python\n",
    "# The finally keyword is available in Python, and it is always used after the try-except block. The finally code block is always executed after the try block has terminated normally or after the try block has terminated for some other reason.\n",
    "\n",
    "# Here is an example of finally keyword with try-except clauses:"
   ]
  },
  {
   "cell_type": "code",
   "execution_count": 10,
   "id": "2bd83003-d6a5-4140-8613-64b801ef3bd9",
   "metadata": {},
   "outputs": [
    {
     "name": "stdout",
     "output_type": "stream",
     "text": [
      "Atepting to divide by zero\n",
      "This is code of finally clause\n"
     ]
    }
   ],
   "source": [
    "# Python code to show the use of finally clause  \n",
    "   \n",
    "# Raising an exception in try block  \n",
    "try:  \n",
    "    div = 4 // 0    \n",
    "    print( div )  \n",
    "# this block will handle the exception raised  \n",
    "except ZeroDivisionError:  \n",
    "    print( \"Atepting to divide by zero\" )  \n",
    "# this will always be executed no matter exception is raised or not  \n",
    "finally:  \n",
    "    print( 'This is code of finally clause' )  "
   ]
  },
  {
   "cell_type": "code",
   "execution_count": 11,
   "id": "e5df2a73-3224-4f97-b427-87dd4bc286f8",
   "metadata": {},
   "outputs": [
    {
     "name": "stdout",
     "output_type": "stream",
     "text": [
      "This is my custom exception\n"
     ]
    }
   ],
   "source": [
    "# # Q.4:-What are custom exceptions in python ? why do we need custom exception? Explain with an example.\n",
    "\n",
    "\n",
    "# Introduction to the Python custom exception\n",
    "# To create a custom exception class, you define a class that inherits from the built-in Exception class or one of its subclasses such as ValueError class:\n",
    "    \n",
    "# The following example defines a CustomException class that inherits from the Exception class:\n",
    "\n",
    "# class CustomException(Exception):\n",
    "#     \"\"\" my custom exception class \"\"\"\n",
    "# Note that the CustomException class has a docstring that behaves like a statement. Therefore, you don’t need to add the pass statement to make the syntax valid.\n",
    "# Python custom exception example\n",
    "# Suppose you need to develop a program that converts a temperature from Fahrenheit to Celsius.\n",
    "\n",
    "# The minimum and maximum values of a temperature in Fahrenheit are 32 and 212. If users enter a value that is not in this range, you want to raise a custom exception e.g., FahrenheitError\n",
    "class CustomException(Exception):\n",
    "    \"\"\" my custom exception class \"\"\"\n",
    "\n",
    "\n",
    "try:\n",
    "    raise CustomException('This is my custom exception')\n",
    "except CustomException as ex:\n",
    "    print(ex)"
   ]
  },
  {
   "cell_type": "code",
   "execution_count": null,
   "id": "ac235b69-57a5-400a-8aff-d5e056ac3a25",
   "metadata": {},
   "outputs": [],
   "source": []
  },
  {
   "cell_type": "code",
   "execution_count": 12,
   "id": "33196d20-05b0-4d32-881a-7c4ac152bcc6",
   "metadata": {},
   "outputs": [],
   "source": [
    "# Q.5:- Creat a custom exception class.use this class to handle an exception."
   ]
  },
  {
   "cell_type": "code",
   "execution_count": 15,
   "id": "35746f3f-3b52-46b0-b717-084c78f1a98f",
   "metadata": {},
   "outputs": [
    {
     "name": "stdin",
     "output_type": "stream",
     "text": [
      "Enter a number:  5\n"
     ]
    },
    {
     "name": "stdout",
     "output_type": "stream",
     "text": [
      "Exception occurred: Invalid Age\n"
     ]
    }
   ],
   "source": [
    "# define Python user-defined exceptions\n",
    "class InvalidAgeException(Exception):\n",
    "    \"Raised when the input value is less than 18\"\n",
    "    pass\n",
    "\n",
    "# you need to guess this number\n",
    "number = 18\n",
    "\n",
    "try:\n",
    "    input_num = int(input(\"Enter a number: \"))\n",
    "    if input_num < number:\n",
    "        raise InvalidAgeException\n",
    "    else:\n",
    "        print(\"Eligible to Vote\")\n",
    "        \n",
    "except InvalidAgeException:\n",
    "    print(\"Exception occurred: Invalid Age\")"
   ]
  },
  {
   "cell_type": "code",
   "execution_count": null,
   "id": "4a1b499b-9495-4bc3-a513-0937c3382e02",
   "metadata": {},
   "outputs": [],
   "source": []
  }
 ],
 "metadata": {
  "kernelspec": {
   "display_name": "Python 3 (ipykernel)",
   "language": "python",
   "name": "python3"
  },
  "language_info": {
   "codemirror_mode": {
    "name": "ipython",
    "version": 3
   },
   "file_extension": ".py",
   "mimetype": "text/x-python",
   "name": "python",
   "nbconvert_exporter": "python",
   "pygments_lexer": "ipython3",
   "version": "3.10.6"
  }
 },
 "nbformat": 4,
 "nbformat_minor": 5
}
